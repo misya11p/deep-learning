{
 "cells": [
  {
   "cell_type": "markdown",
   "metadata": {},
   "source": [
    "# 正規化層\n",
    "\n",
    "入力されたデータを正規化して返す層。"
   ]
  },
  {
   "cell_type": "markdown",
   "metadata": {},
   "source": [
    "入力されたデータが特定の統計量（平均・分散）に従うように正規化される。  \n",
    "統計量は学習可能なパラメータである。\n",
    "\n",
    "平均0, 分散1への正規化+シフトとも見られる。"
   ]
  },
  {
   "cell_type": "markdown",
   "metadata": {},
   "source": [
    "統計量を求める軸によって色々な種類がある。\n",
    "- バッチ正規化\n",
    "- 層正規化\n",
    "- インスタンス正規化"
   ]
  },
  {
   "cell_type": "code",
   "execution_count": 1,
   "metadata": {},
   "outputs": [],
   "source": [
    "import torch\n",
    "from torch import nn"
   ]
  },
  {
   "cell_type": "markdown",
   "metadata": {},
   "source": [
    "\n",
    "---\n",
    "\n",
    "## バッチ正規化\n",
    "\n",
    "*Batch Normalization*\n",
    "\n",
    "バッチ方向に正規化を行う。  \n",
    "学習時と推論時で挙動が変わる。"
   ]
  },
  {
   "cell_type": "markdown",
   "metadata": {},
   "source": [
    "### 学習\n",
    "\n",
    "学習時の挙動を見てみよう。  \n",
    "まず適当なデータを用意する。"
   ]
  },
  {
   "cell_type": "code",
   "execution_count": 2,
   "metadata": {},
   "outputs": [
    {
     "data": {
      "text/plain": [
       "tensor([[-0.9997,  0.1207, -1.0132, -0.0346, -1.1761],\n",
       "        [ 1.2045, -0.3699,  1.4332,  0.5508, -0.9444]])"
      ]
     },
     "execution_count": 2,
     "metadata": {},
     "output_type": "execute_result"
    }
   ],
   "source": [
    "batch_size = 2\n",
    "d = 5\n",
    "x = torch.randn(batch_size, d)\n",
    "x"
   ]
  },
  {
   "cell_type": "markdown",
   "metadata": {},
   "source": [
    "バッチ正規化層を作る。pytorchを使う。"
   ]
  },
  {
   "cell_type": "code",
   "execution_count": 3,
   "metadata": {},
   "outputs": [],
   "source": [
    "norm = nn.BatchNorm1d(d)\n",
    "norm.train();"
   ]
  },
  {
   "cell_type": "markdown",
   "metadata": {},
   "source": [
    "データを突っ込んでみよう。"
   ]
  },
  {
   "cell_type": "code",
   "execution_count": 4,
   "metadata": {},
   "outputs": [
    {
     "data": {
      "text/plain": [
       "tensor([[-1.0000,  0.9999, -1.0000, -0.9999, -0.9996],\n",
       "        [ 1.0000, -0.9999,  1.0000,  0.9999,  0.9996]],\n",
       "       grad_fn=<NativeBatchNormBackward0>)"
      ]
     },
     "execution_count": 4,
     "metadata": {},
     "output_type": "execute_result"
    }
   ],
   "source": [
    "y = norm(x)\n",
    "y"
   ]
  },
  {
   "cell_type": "markdown",
   "metadata": {},
   "source": [
    "平均0, 分散1に正規化された。  \n",
    "これはpytorchが設定した初期値であって、学習によって変化する。"
   ]
  },
  {
   "cell_type": "code",
   "execution_count": 5,
   "metadata": {},
   "outputs": [
    {
     "name": "stdout",
     "output_type": "stream",
     "text": [
      "Parameter containing:\n",
      "tensor([1., 1., 1., 1., 1.], requires_grad=True)\n",
      "Parameter containing:\n",
      "tensor([0., 0., 0., 0., 0.], requires_grad=True)\n"
     ]
    }
   ],
   "source": [
    "for params in norm.parameters():\n",
    "    print(params)"
   ]
  },
  {
   "cell_type": "markdown",
   "metadata": {},
   "source": [
    "学習時はミニバッチ前提なので、例えばバッチサイズ1のデータを入れるとエラーが出る。"
   ]
  },
  {
   "cell_type": "code",
   "execution_count": 6,
   "metadata": {},
   "outputs": [
    {
     "name": "stdout",
     "output_type": "stream",
     "text": [
      "Expected more than 1 value per channel when training, got input size torch.Size([1, 5])\n"
     ]
    }
   ],
   "source": [
    "x = torch.randn(1, d)\n",
    "try:\n",
    "    y = norm(x)\n",
    "except Exception as e:\n",
    "    print(e)"
   ]
  },
  {
   "cell_type": "markdown",
   "metadata": {},
   "source": [
    "### 推論\n",
    "\n",
    "推論時は挙動が変わる。\n",
    "\n",
    "学習時と同じようにしてしまうと、バッチ内のデータによって結果が変わってしまう。サンプリング方法によって推論結果が変わるのはマズイ。  \n",
    "後は、バッチサイズ1の時も困る。"
   ]
  },
  {
   "cell_type": "markdown",
   "metadata": {},
   "source": [
    "推論時は、学習データ全体の統計量で正規化する。  \n",
    "学習時に、特徴量ごとの統計量を記録しておく。"
   ]
  },
  {
   "cell_type": "markdown",
   "metadata": {},
   "source": [
    "みてみよう。"
   ]
  },
  {
   "cell_type": "code",
   "execution_count": 7,
   "metadata": {},
   "outputs": [
    {
     "data": {
      "text/plain": [
       "tensor([[-1.2630, -1.9636, -0.6218,  1.5072,  0.8681],\n",
       "        [ 0.6868, -1.2388, -0.1524, -2.1604,  0.6878]])"
      ]
     },
     "execution_count": 7,
     "metadata": {},
     "output_type": "execute_result"
    }
   ],
   "source": [
    "batch_size = 2\n",
    "d = 5\n",
    "x = torch.randn(batch_size, d)\n",
    "x"
   ]
  },
  {
   "cell_type": "code",
   "execution_count": 8,
   "metadata": {},
   "outputs": [],
   "source": [
    "norm = nn.BatchNorm1d(d)\n",
    "norm.eval();"
   ]
  },
  {
   "cell_type": "code",
   "execution_count": 9,
   "metadata": {},
   "outputs": [
    {
     "data": {
      "text/plain": [
       "tensor([[-1.2630, -1.9635, -0.6218,  1.5072,  0.8681],\n",
       "        [ 0.6868, -1.2388, -0.1524, -2.1604,  0.6878]],\n",
       "       grad_fn=<NativeBatchNormBackward0>)"
      ]
     },
     "execution_count": 9,
     "metadata": {},
     "output_type": "execute_result"
    }
   ],
   "source": [
    "y = norm(x)\n",
    "y"
   ]
  },
  {
   "cell_type": "markdown",
   "metadata": {},
   "source": [
    "同じデータが出力された。  \n",
    "これは、パラメータに加え、学習データ全体の統計量も平均0, 分散1として初期化されているから。"
   ]
  },
  {
   "cell_type": "code",
   "execution_count": 10,
   "metadata": {},
   "outputs": [
    {
     "data": {
      "text/plain": [
       "OrderedDict([('weight', tensor([1., 1., 1., 1., 1.])),\n",
       "             ('bias', tensor([0., 0., 0., 0., 0.])),\n",
       "             ('running_mean', tensor([0., 0., 0., 0., 0.])),\n",
       "             ('running_var', tensor([1., 1., 1., 1., 1.])),\n",
       "             ('num_batches_tracked', tensor(0))])"
      ]
     },
     "execution_count": 10,
     "metadata": {},
     "output_type": "execute_result"
    }
   ],
   "source": [
    "norm.state_dict()"
   ]
  },
  {
   "cell_type": "markdown",
   "metadata": {},
   "source": [
    "`running_mean`と`running_var`が学習データ全体の統計量。  \n",
    "これらは学習モードで演算を行うと更新される。"
   ]
  },
  {
   "cell_type": "code",
   "execution_count": 11,
   "metadata": {},
   "outputs": [
    {
     "data": {
      "text/plain": [
       "OrderedDict([('weight', tensor([1., 1., 1., 1., 1.])),\n",
       "             ('bias', tensor([0., 0., 0., 0., 0.])),\n",
       "             ('running_mean',\n",
       "              tensor([-0.0288, -0.1601, -0.0387, -0.0327,  0.0778])),\n",
       "             ('running_var', tensor([1.0901, 0.9263, 0.9110, 1.5726, 0.9016])),\n",
       "             ('num_batches_tracked', tensor(1))])"
      ]
     },
     "execution_count": 11,
     "metadata": {},
     "output_type": "execute_result"
    }
   ],
   "source": [
    "norm.train()\n",
    "y = norm(x)\n",
    "norm.state_dict()"
   ]
  },
  {
   "cell_type": "code",
   "execution_count": 12,
   "metadata": {},
   "outputs": [
    {
     "name": "stdout",
     "output_type": "stream",
     "text": [
      "mean: tensor([-0.2881, -1.6012, -0.3871, -0.3266,  0.7780])\n",
      "var: tensor([1.9010, 0.2626, 0.1102, 6.7255, 0.0163])\n"
     ]
    }
   ],
   "source": [
    "print('mean:', x.mean(dim=0))\n",
    "print('var:', x.var(dim=0))"
   ]
  },
  {
   "cell_type": "markdown",
   "metadata": {},
   "source": [
    "入力したデータの平均と分散が記録された。  \n",
    "`momentum=0.1`がデフォルトで設定されているので、完全には一致していない。\n",
    "\n",
    "これでもう一度推論モードにしてみると、今記録した統計量で演算が行われる。"
   ]
  },
  {
   "cell_type": "code",
   "execution_count": 13,
   "metadata": {},
   "outputs": [
    {
     "data": {
      "text/plain": [
       "tensor([[-1.1821, -1.8738, -0.6109,  1.2279,  0.8323],\n",
       "        [ 0.6854, -1.1208, -0.1191, -1.6967,  0.6424]],\n",
       "       grad_fn=<NativeBatchNormBackward0>)"
      ]
     },
     "execution_count": 13,
     "metadata": {},
     "output_type": "execute_result"
    }
   ],
   "source": [
    "norm.eval()\n",
    "y = norm(x)\n",
    "y"
   ]
  },
  {
   "cell_type": "markdown",
   "metadata": {},
   "source": [
    "確かめてみよう。"
   ]
  },
  {
   "cell_type": "code",
   "execution_count": 14,
   "metadata": {},
   "outputs": [
    {
     "data": {
      "text/plain": [
       "tensor([[-1.1821, -1.8738, -0.6109,  1.2279,  0.8323],\n",
       "        [ 0.6854, -1.1208, -0.1191, -1.6967,  0.6424]])"
      ]
     },
     "execution_count": 14,
     "metadata": {},
     "output_type": "execute_result"
    }
   ],
   "source": [
    "mean = norm.state_dict()['bias'] # 平均（パラメータ）\n",
    "var = norm.state_dict()['weight'] # 分散（パラメータ）\n",
    "data_mean = norm.state_dict()['running_mean'] # 平均（学習データ）\n",
    "data_var = norm.state_dict()['running_var'] # 分散（学習データ）\n",
    "eps = norm.eps # 微小値\n",
    "\n",
    "((x - data_mean) / torch.sqrt(data_var + eps)) * var + mean"
   ]
  },
  {
   "cell_type": "markdown",
   "metadata": {},
   "source": [
    "ちゃんと同じになったね。\n",
    "\n",
    "あと、バッチサイズ1の時もちゃんと動く。"
   ]
  },
  {
   "cell_type": "code",
   "execution_count": 15,
   "metadata": {},
   "outputs": [
    {
     "data": {
      "text/plain": [
       "tensor([[ 0.6924, -0.7642, -1.3633, -0.1025,  0.8151]],\n",
       "       grad_fn=<NativeBatchNormBackward0>)"
      ]
     },
     "execution_count": 15,
     "metadata": {},
     "output_type": "execute_result"
    }
   ],
   "source": [
    "x = torch.randn(1, d)\n",
    "norm.eval()\n",
    "norm(x)"
   ]
  }
 ],
 "metadata": {
  "kernelspec": {
   "display_name": "dl",
   "language": "python",
   "name": "python3"
  },
  "language_info": {
   "codemirror_mode": {
    "name": "ipython",
    "version": 3
   },
   "file_extension": ".py",
   "mimetype": "text/x-python",
   "name": "python",
   "nbconvert_exporter": "python",
   "pygments_lexer": "ipython3",
   "version": "3.11.2"
  },
  "orig_nbformat": 4
 },
 "nbformat": 4,
 "nbformat_minor": 2
}
