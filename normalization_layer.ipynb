{
 "cells": [
  {
   "cell_type": "markdown",
   "metadata": {},
   "source": [
    "# 正規化層\n",
    "\n",
    "*Normalization Layer*\n",
    "\n",
    "入力されたデータを正規化して返す層。  \n",
    "平均0, 分散1に正規化する。以後これは標準化と呼ぶ。\n",
    "\n",
    "また本章において正規化は、標準化や0-1正規化などを含むデータのスケーリング（やシフト）を広く指す。"
   ]
  },
  {
   "cell_type": "markdown",
   "metadata": {},
   "source": [
    "正規化する軸方向によって分類される。\n",
    "\n",
    "- バッチ正規化\n",
    "- 層正規化\n",
    "- インスタンス正規化\n",
    "- グループ正規化"
   ]
  },
  {
   "cell_type": "markdown",
   "metadata": {},
   "source": [
    "pytorchで挙動を見ながら理解していこう。  \n",
    "https://pytorch.org/docs/stable/nn.html#normalization-layers"
   ]
  },
  {
   "cell_type": "code",
   "execution_count": 1,
   "metadata": {},
   "outputs": [],
   "source": [
    "import torch\n",
    "from torch import nn"
   ]
  },
  {
   "cell_type": "markdown",
   "metadata": {},
   "source": [
    "\n",
    "---\n",
    "\n",
    "## バッチ正規化\n",
    "\n",
    "*Batch Normalization*\n",
    "\n",
    "バッチ方向に標準化を行う。  \n",
    "またその後に、$d$個の特徴量ごとに対応する1次関数$f_i(\\boldsymbol x_i)$を用いた変換を行う。\n",
    "\n",
    "$$\n",
    "f_i(\\boldsymbol x_i)=a_ix+b_i,\\quad1\\leq i\\leq d,\\quad\\boldsymbol x_i\\in\\mathbb R^N\n",
    "$$\n",
    "\n",
    "- $N$ : バッチサイズ\n",
    "\n",
    "$a_i, b_i$は学習可能なパラメータ。\n",
    "\n",
    "この変換は、平均$b_i$へのシフトと標準偏差$a_i$へのスケーリングを行っているとも見られる。  \n",
    "バッチ正規化は、入力データを学習した統計量（平均, 分散）で正規化することと言える。"
   ]
  },
  {
   "cell_type": "markdown",
   "metadata": {},
   "source": [
    "この層は学習時と推論時で挙動（計算方法）が変わる。"
   ]
  },
  {
   "cell_type": "markdown",
   "metadata": {},
   "source": [
    "### 学習\n",
    "\n",
    "学習時の挙動を見てみよう。  \n",
    "まず適当なデータを用意する。"
   ]
  },
  {
   "cell_type": "code",
   "execution_count": 2,
   "metadata": {},
   "outputs": [
    {
     "data": {
      "text/plain": [
       "tensor([[0., 1., 2., 3., 4.],\n",
       "        [5., 6., 7., 8., 9.]])"
      ]
     },
     "execution_count": 2,
     "metadata": {},
     "output_type": "execute_result"
    }
   ],
   "source": [
    "batch_size = 2\n",
    "d = 5 # 特徴量の数\n",
    "x = torch.arange(batch_size * d).reshape(batch_size, d).to(torch.float32)\n",
    "x"
   ]
  },
  {
   "cell_type": "markdown",
   "metadata": {},
   "source": [
    "これをバッチ方向に正規化する。"
   ]
  },
  {
   "cell_type": "code",
   "execution_count": 3,
   "metadata": {},
   "outputs": [
    {
     "data": {
      "text/plain": [
       "tensor([[-1.0000, -1.0000, -1.0000, -1.0000, -1.0000],\n",
       "        [ 1.0000,  1.0000,  1.0000,  1.0000,  1.0000]])"
      ]
     },
     "execution_count": 3,
     "metadata": {},
     "output_type": "execute_result"
    }
   ],
   "source": [
    "mean = x.mean(dim=0, keepdim=True)\n",
    "var = x.var(dim=0, keepdim=True, unbiased=False)\n",
    "eps = 1e-5 # 微小値（0除算回避）\n",
    "normalized_x = (x - mean) / torch.sqrt(var + eps)\n",
    "normalized_x"
   ]
  },
  {
   "cell_type": "markdown",
   "metadata": {},
   "source": [
    "特徴量ごとに標準化された。\n",
    "\n",
    "次に、これらの平均、分散を変換する。"
   ]
  },
  {
   "cell_type": "code",
   "execution_count": 4,
   "metadata": {},
   "outputs": [
    {
     "data": {
      "text/plain": [
       "tensor([[1.0000, 1.0000, 1.0000, 1.0000, 1.0000],\n",
       "        [5.0000, 5.0000, 5.0000, 5.0000, 5.0000]])"
      ]
     },
     "execution_count": 4,
     "metadata": {},
     "output_type": "execute_result"
    }
   ],
   "source": [
    "a = torch.ones(d) * 2\n",
    "b = torch.ones(d) * 3\n",
    "\n",
    "y = a * normalized_x + b\n",
    "y"
   ]
  },
  {
   "cell_type": "markdown",
   "metadata": {},
   "source": [
    "平均、分散は一律で$3, 2$とした。本来は特徴量ごとに異なる。\n",
    "\n",
    "以上が学習時の挙動である。pytorchでも確認してみよう。  \n",
    "https://pytorch.org/docs/stable/generated/torch.nn.BatchNorm1d.html"
   ]
  },
  {
   "cell_type": "code",
   "execution_count": 5,
   "metadata": {},
   "outputs": [
    {
     "data": {
      "text/plain": [
       "tensor([[0., 1., 2., 3., 4.],\n",
       "        [5., 6., 7., 8., 9.]])"
      ]
     },
     "execution_count": 5,
     "metadata": {},
     "output_type": "execute_result"
    }
   ],
   "source": [
    "x # 再掲"
   ]
  },
  {
   "cell_type": "code",
   "execution_count": 6,
   "metadata": {},
   "outputs": [
    {
     "data": {
      "text/plain": [
       "tensor([[-1.0000, -1.0000, -1.0000, -1.0000, -1.0000],\n",
       "        [ 1.0000,  1.0000,  1.0000,  1.0000,  1.0000]],\n",
       "       grad_fn=<NativeBatchNormBackward0>)"
      ]
     },
     "execution_count": 6,
     "metadata": {},
     "output_type": "execute_result"
    }
   ],
   "source": [
    "norm = nn.BatchNorm1d(d)\n",
    "y = norm(x)\n",
    "y"
   ]
  },
  {
   "cell_type": "markdown",
   "metadata": {},
   "source": [
    "標準化できた。  \n",
    "これらの統計量ははpytorchが設定した初期値であって、学習によって変化する。\n",
    "\n",
    "パラメータを確認してみる。"
   ]
  },
  {
   "cell_type": "code",
   "execution_count": 7,
   "metadata": {},
   "outputs": [
    {
     "name": "stdout",
     "output_type": "stream",
     "text": [
      "Parameter containing:\n",
      "tensor([1., 1., 1., 1., 1.], requires_grad=True)\n",
      "Parameter containing:\n",
      "tensor([0., 0., 0., 0., 0.], requires_grad=True)\n"
     ]
    }
   ],
   "source": [
    "for params in norm.parameters():\n",
    "    print(params)"
   ]
  },
  {
   "cell_type": "markdown",
   "metadata": {},
   "source": [
    "特徴量の数だけパラメータ（平均, 分散）があることが分かる。\n",
    "\n",
    "ちなみに、学習時はミニバッチ前提なので、例えばバッチサイズ1のデータを入れるとエラーが出る。"
   ]
  },
  {
   "cell_type": "code",
   "execution_count": 8,
   "metadata": {},
   "outputs": [
    {
     "data": {
      "text/plain": [
       "tensor([[0., 1., 2., 3., 4.]])"
      ]
     },
     "execution_count": 8,
     "metadata": {},
     "output_type": "execute_result"
    }
   ],
   "source": [
    "x[:1]"
   ]
  },
  {
   "cell_type": "code",
   "execution_count": 9,
   "metadata": {},
   "outputs": [
    {
     "name": "stdout",
     "output_type": "stream",
     "text": [
      "Expected more than 1 value per channel when training, got input size torch.Size([1, 5])\n"
     ]
    }
   ],
   "source": [
    "try:\n",
    "    y = norm(x[:1])\n",
    "except Exception as e:\n",
    "    print(e)"
   ]
  },
  {
   "cell_type": "markdown",
   "metadata": {},
   "source": [
    "### 推論\n",
    "\n",
    "推論時は挙動が変わる。\n",
    "\n",
    "学習時と同じようにしてしまうと、バッチ内のデータによって結果が変わってしまう。サンプリング方法によって推論結果が変わるのはマズイ。  \n",
    "後は、バッチサイズ1の時も困る。学習時と分布が変わってしまうから。"
   ]
  },
  {
   "cell_type": "markdown",
   "metadata": {},
   "source": [
    "推論時は、学習データ全体の統計量で正規化する。  \n",
    "学習時に、特徴量ごとの統計量を記録しておく。"
   ]
  },
  {
   "cell_type": "markdown",
   "metadata": {},
   "source": [
    "pytorchでみてみよう。"
   ]
  },
  {
   "cell_type": "code",
   "execution_count": 10,
   "metadata": {},
   "outputs": [
    {
     "data": {
      "text/plain": [
       "tensor([[0., 1., 2., 3., 4.],\n",
       "        [5., 6., 7., 8., 9.]])"
      ]
     },
     "execution_count": 10,
     "metadata": {},
     "output_type": "execute_result"
    }
   ],
   "source": [
    "x # 再掲"
   ]
  },
  {
   "cell_type": "code",
   "execution_count": 11,
   "metadata": {},
   "outputs": [
    {
     "data": {
      "text/plain": [
       "tensor([[0.0000, 1.0000, 2.0000, 3.0000, 4.0000],\n",
       "        [5.0000, 6.0000, 7.0000, 8.0000, 9.0000]],\n",
       "       grad_fn=<NativeBatchNormBackward0>)"
      ]
     },
     "execution_count": 11,
     "metadata": {},
     "output_type": "execute_result"
    }
   ],
   "source": [
    "norm = nn.BatchNorm1d(d)\n",
    "norm.eval() # 推論モード\n",
    "y = norm(x)\n",
    "y"
   ]
  },
  {
   "cell_type": "markdown",
   "metadata": {},
   "source": [
    "同じデータが出力された。  \n",
    "これは、パラメータに加え、学習データ全体の統計量も平均0, 分散1として初期化されているから。"
   ]
  },
  {
   "cell_type": "code",
   "execution_count": 12,
   "metadata": {},
   "outputs": [
    {
     "data": {
      "text/plain": [
       "OrderedDict([('weight', tensor([1., 1., 1., 1., 1.])),\n",
       "             ('bias', tensor([0., 0., 0., 0., 0.])),\n",
       "             ('running_mean', tensor([0., 0., 0., 0., 0.])),\n",
       "             ('running_var', tensor([1., 1., 1., 1., 1.])),\n",
       "             ('num_batches_tracked', tensor(0))])"
      ]
     },
     "execution_count": 12,
     "metadata": {},
     "output_type": "execute_result"
    }
   ],
   "source": [
    "norm.state_dict()"
   ]
  },
  {
   "cell_type": "markdown",
   "metadata": {},
   "source": [
    "`running_mean`と`running_var`が学習データ全体の統計量。  \n",
    "これらは学習モードで演算を行うと勝手に更新される。"
   ]
  },
  {
   "cell_type": "code",
   "execution_count": 13,
   "metadata": {},
   "outputs": [
    {
     "data": {
      "text/plain": [
       "OrderedDict([('weight', tensor([1., 1., 1., 1., 1.])),\n",
       "             ('bias', tensor([0., 0., 0., 0., 0.])),\n",
       "             ('running_mean',\n",
       "              tensor([0.2500, 0.3500, 0.4500, 0.5500, 0.6500])),\n",
       "             ('running_var', tensor([2.1500, 2.1500, 2.1500, 2.1500, 2.1500])),\n",
       "             ('num_batches_tracked', tensor(1))])"
      ]
     },
     "execution_count": 13,
     "metadata": {},
     "output_type": "execute_result"
    }
   ],
   "source": [
    "norm.train()\n",
    "y = norm(x)\n",
    "norm.state_dict()"
   ]
  },
  {
   "cell_type": "code",
   "execution_count": 14,
   "metadata": {},
   "outputs": [
    {
     "name": "stdout",
     "output_type": "stream",
     "text": [
      "mean: tensor([2.5000, 3.5000, 4.5000, 5.5000, 6.5000])\n",
      "var: tensor([12.5000, 12.5000, 12.5000, 12.5000, 12.5000])\n"
     ]
    }
   ],
   "source": [
    "print('mean:', x.mean(dim=0))\n",
    "print('var:', x.var(dim=0))"
   ]
  },
  {
   "cell_type": "markdown",
   "metadata": {},
   "source": [
    "入力したデータの平均と分散が記録された。  \n",
    "`momentum=0.1`がデフォルトで設定されているので、完全には一致していない。\n",
    "\n",
    "これでもう一度推論モードにしてみると、今記録した統計量で正規化が行われる。"
   ]
  },
  {
   "cell_type": "code",
   "execution_count": 15,
   "metadata": {},
   "outputs": [
    {
     "data": {
      "text/plain": [
       "tensor([[-0.1705,  0.4433,  1.0571,  1.6709,  2.2847],\n",
       "        [ 3.2395,  3.8533,  4.4671,  5.0808,  5.6946]],\n",
       "       grad_fn=<NativeBatchNormBackward0>)"
      ]
     },
     "execution_count": 15,
     "metadata": {},
     "output_type": "execute_result"
    }
   ],
   "source": [
    "norm.eval()\n",
    "y = norm(x)\n",
    "y"
   ]
  },
  {
   "cell_type": "markdown",
   "metadata": {},
   "source": [
    "確かめてみよう。"
   ]
  },
  {
   "cell_type": "code",
   "execution_count": 16,
   "metadata": {},
   "outputs": [
    {
     "data": {
      "text/plain": [
       "tensor([[-0.1705,  0.4433,  1.0571,  1.6709,  2.2847],\n",
       "        [ 3.2395,  3.8533,  4.4671,  5.0808,  5.6946]])"
      ]
     },
     "execution_count": 16,
     "metadata": {},
     "output_type": "execute_result"
    }
   ],
   "source": [
    "mean = norm.state_dict()['bias'] # 平均（パラメータ）\n",
    "var = norm.state_dict()['weight'] # 分散（パラメータ）\n",
    "data_mean = norm.state_dict()['running_mean'] # 平均（学習データ）\n",
    "data_var = norm.state_dict()['running_var'] # 分散（学習データ）\n",
    "eps = norm.eps\n",
    "\n",
    "((x - data_mean) / torch.sqrt(data_var + eps)) * var + mean"
   ]
  },
  {
   "cell_type": "markdown",
   "metadata": {},
   "source": [
    "ちゃんと同じになったね。\n",
    "\n",
    "あと、バッチサイズ1の時もちゃんと動く。"
   ]
  },
  {
   "cell_type": "code",
   "execution_count": 17,
   "metadata": {},
   "outputs": [
    {
     "data": {
      "text/plain": [
       "tensor([[-0.1705,  0.4433,  1.0571,  1.6709,  2.2847]],\n",
       "       grad_fn=<NativeBatchNormBackward0>)"
      ]
     },
     "execution_count": 17,
     "metadata": {},
     "output_type": "execute_result"
    }
   ],
   "source": [
    "norm.eval()\n",
    "norm(x[:1])"
   ]
  },
  {
   "cell_type": "markdown",
   "metadata": {},
   "source": [
    "特徴量は2次元でもいい。まとめて正規化される。"
   ]
  },
  {
   "cell_type": "code",
   "execution_count": 18,
   "metadata": {},
   "outputs": [
    {
     "data": {
      "text/plain": [
       "tensor([[[ 0.,  1.,  2.,  3.],\n",
       "         [ 4.,  5.,  6.,  7.],\n",
       "         [ 8.,  9., 10., 11.]],\n",
       "\n",
       "        [[12., 13., 14., 15.],\n",
       "         [16., 17., 18., 19.],\n",
       "         [20., 21., 22., 23.]]])"
      ]
     },
     "execution_count": 18,
     "metadata": {},
     "output_type": "execute_result"
    }
   ],
   "source": [
    "batch_size = 2\n",
    "h = 3\n",
    "w = 4\n",
    "x = torch.arange(batch_size * h * w).reshape(batch_size, h, w).to(torch.float32)\n",
    "x"
   ]
  },
  {
   "cell_type": "code",
   "execution_count": 19,
   "metadata": {},
   "outputs": [
    {
     "data": {
      "text/plain": [
       "tensor([[[-1.2288, -1.0650, -0.9012, -0.7373],\n",
       "         [-1.2288, -1.0650, -0.9012, -0.7373],\n",
       "         [-1.2288, -1.0650, -0.9012, -0.7373]],\n",
       "\n",
       "        [[ 0.7373,  0.9012,  1.0650,  1.2288],\n",
       "         [ 0.7373,  0.9012,  1.0650,  1.2288],\n",
       "         [ 0.7373,  0.9012,  1.0650,  1.2288]]],\n",
       "       grad_fn=<NativeBatchNormBackward0>)"
      ]
     },
     "execution_count": 19,
     "metadata": {},
     "output_type": "execute_result"
    }
   ],
   "source": [
    "norm = nn.BatchNorm1d(h)\n",
    "norm(x)"
   ]
  },
  {
   "cell_type": "markdown",
   "metadata": {},
   "source": [
    "こういうこと。"
   ]
  },
  {
   "cell_type": "code",
   "execution_count": 20,
   "metadata": {},
   "outputs": [
    {
     "data": {
      "text/plain": [
       "tensor([[[ 7.5000],\n",
       "         [11.5000],\n",
       "         [15.5000]]])"
      ]
     },
     "execution_count": 20,
     "metadata": {},
     "output_type": "execute_result"
    }
   ],
   "source": [
    "mean = x.mean(dim=(0, 2), keepdim=True)\n",
    "mean"
   ]
  },
  {
   "cell_type": "code",
   "execution_count": 21,
   "metadata": {},
   "outputs": [
    {
     "data": {
      "text/plain": [
       "tensor([[[37.2500],\n",
       "         [37.2500],\n",
       "         [37.2500]]])"
      ]
     },
     "execution_count": 21,
     "metadata": {},
     "output_type": "execute_result"
    }
   ],
   "source": [
    "var = x.var(dim=(0, 2), keepdim=True, unbiased=False)\n",
    "var"
   ]
  },
  {
   "cell_type": "code",
   "execution_count": 22,
   "metadata": {},
   "outputs": [
    {
     "data": {
      "text/plain": [
       "tensor([[[-1.2288, -1.0650, -0.9012, -0.7373],\n",
       "         [-1.2288, -1.0650, -0.9012, -0.7373],\n",
       "         [-1.2288, -1.0650, -0.9012, -0.7373]],\n",
       "\n",
       "        [[ 0.7373,  0.9012,  1.0650,  1.2288],\n",
       "         [ 0.7373,  0.9012,  1.0650,  1.2288],\n",
       "         [ 0.7373,  0.9012,  1.0650,  1.2288]]])"
      ]
     },
     "execution_count": 22,
     "metadata": {},
     "output_type": "execute_result"
    }
   ],
   "source": [
    "((x - mean) / torch.sqrt(var + norm.eps))"
   ]
  },
  {
   "cell_type": "markdown",
   "metadata": {},
   "source": [
    "バッチ次元（0番目）の次の次元（1番目）が単位となってまとまるので、それ以外の軸を指定して（`dim=(0, 2)`）計算するというイメージ。"
   ]
  },
  {
   "cell_type": "markdown",
   "metadata": {},
   "source": [
    "ちなみに3次元以上の特徴量（4次元以上の入力）には対応していない。"
   ]
  },
  {
   "cell_type": "code",
   "execution_count": 23,
   "metadata": {},
   "outputs": [
    {
     "name": "stdout",
     "output_type": "stream",
     "text": [
      "expected 2D or 3D input (got 4D input)\n"
     ]
    }
   ],
   "source": [
    "batch_size = 2\n",
    "c = 3\n",
    "w = 4\n",
    "h = 5\n",
    "x = torch.randn(batch_size, c, w, h)\n",
    "\n",
    "norm = nn.BatchNorm1d(c)\n",
    "try:\n",
    "    norm(x)\n",
    "except Exception as e:\n",
    "    print(e)"
   ]
  },
  {
   "cell_type": "markdown",
   "metadata": {},
   "source": [
    "特徴量が3次元の場合は別のクラスを使う。  \n",
    "https://pytorch.org/docs/stable/generated/torch.nn.BatchNorm2d.html\n",
    "\n",
    "CNNで使われる事が多い。特徴マップの正規化。"
   ]
  },
  {
   "cell_type": "code",
   "execution_count": 24,
   "metadata": {},
   "outputs": [
    {
     "data": {
      "text/plain": [
       "torch.Size([2, 3, 4, 5])"
      ]
     },
     "execution_count": 24,
     "metadata": {},
     "output_type": "execute_result"
    }
   ],
   "source": [
    "batch_size = 2\n",
    "c = 3\n",
    "w = 4\n",
    "h = 5\n",
    "x = torch.randn(batch_size, c, w, h)\n",
    "x.shape"
   ]
  },
  {
   "cell_type": "code",
   "execution_count": 25,
   "metadata": {},
   "outputs": [
    {
     "name": "stdout",
     "output_type": "stream",
     "text": [
      "Parameter containing:\n",
      "tensor([1., 1., 1.], requires_grad=True)\n",
      "Parameter containing:\n",
      "tensor([0., 0., 0.], requires_grad=True)\n"
     ]
    }
   ],
   "source": [
    "norm = nn.BatchNorm2d(c)\n",
    "for params in norm.parameters():\n",
    "    print(params)"
   ]
  },
  {
   "cell_type": "code",
   "execution_count": 26,
   "metadata": {},
   "outputs": [
    {
     "data": {
      "text/plain": [
       "torch.Size([2, 3, 4, 5])"
      ]
     },
     "execution_count": 26,
     "metadata": {},
     "output_type": "execute_result"
    }
   ],
   "source": [
    "y = norm(x)\n",
    "y.shape"
   ]
  },
  {
   "cell_type": "markdown",
   "metadata": {},
   "source": [
    "後ろの二つの次元をまとめれば`BatchNorm1d`でも同じことが出来る。"
   ]
  },
  {
   "cell_type": "code",
   "execution_count": 27,
   "metadata": {},
   "outputs": [
    {
     "data": {
      "text/plain": [
       "True"
      ]
     },
     "execution_count": 27,
     "metadata": {},
     "output_type": "execute_result"
    }
   ],
   "source": [
    "norm = nn.BatchNorm1d(c)\n",
    "y_ = norm(x.reshape(batch_size, c, -1)).reshape(batch_size, c, w, h)\n",
    "torch.equal(y, y_)"
   ]
  },
  {
   "cell_type": "markdown",
   "metadata": {},
   "source": [
    "ちなみに4次元以上の特徴量を扱う`BatchNorm3d`もある。  \n",
    "https://pytorch.org/docs/stable/generated/torch.nn.BatchNorm3d.html"
   ]
  },
  {
   "cell_type": "markdown",
   "metadata": {},
   "source": [
    "特徴量の数と対応しているclassをまとめるとこうなる。\n",
    "\n",
    "| 特徴量の次元数 | 入力の次元数 | class |\n",
    "| --- | --- | --- |\n",
    "| 1 | 2 | `BatchNorm1d` |\n",
    "| 2 | 3 | `BatchNorm1d` |\n",
    "| 3 | 4 | `BatchNorm2d` |\n",
    "| 4 | 5 | `BatchNorm3d` |\n",
    "\n",
    "命名と分け方が謎だ。  \n",
    "何で特徴量の次元数と`{n}d`が一致しないんだろう。何で`1d`が二つ分担当しているんだろう。"
   ]
  },
  {
   "cell_type": "markdown",
   "metadata": {},
   "source": [
    "\n",
    "---\n",
    "\n",
    "## 層正規化\n",
    "\n",
    "*Layer Normalization*\n",
    "\n",
    "層方向に標準化を行う。層方向というのは、特徴量方向って感じ。  \n",
    "バッチ正規化と同じように、標準化した後に特徴量ごとにスケーリングとシフトを行う。\n",
    "\n",
    "標準化はバッチ単位、スケーリングとシフトは特徴量単位なので、バッチ正規化のように全体（標準化→シフト→スケーリング）を正規化と捉えることは出来ないと思う。でも面倒くさいので全体の演算も正規化と呼ぶことにする。\n",
    "\n",
    "あと層正規化は演算結果がバッチ内の他のデータに依らないので、学習時と推論時で挙動が変わらない。"
   ]
  },
  {
   "cell_type": "markdown",
   "metadata": {},
   "source": [
    "RNNにバッチ正規化の適用が困難（系列長が固定でないから）なことから生まれた、多分。"
   ]
  },
  {
   "cell_type": "markdown",
   "metadata": {},
   "source": [
    "では適当にやってみよう。"
   ]
  },
  {
   "cell_type": "code",
   "execution_count": 28,
   "metadata": {},
   "outputs": [
    {
     "data": {
      "text/plain": [
       "tensor([[0., 1., 2., 3., 4.],\n",
       "        [5., 6., 7., 8., 9.]])"
      ]
     },
     "execution_count": 28,
     "metadata": {},
     "output_type": "execute_result"
    }
   ],
   "source": [
    "batch_size = 2\n",
    "d = 5\n",
    "x = torch.arange(batch_size * d).reshape(batch_size, d).to(torch.float32)\n",
    "x"
   ]
  },
  {
   "cell_type": "markdown",
   "metadata": {},
   "source": [
    "層作成。  \n",
    "特徴量の形状を与える。その形状と同じ平均と分散がパラメータとなる。"
   ]
  },
  {
   "cell_type": "code",
   "execution_count": 29,
   "metadata": {},
   "outputs": [
    {
     "name": "stdout",
     "output_type": "stream",
     "text": [
      "Parameter containing:\n",
      "tensor([1., 1., 1., 1., 1.], requires_grad=True)\n",
      "Parameter containing:\n",
      "tensor([0., 0., 0., 0., 0.], requires_grad=True)\n"
     ]
    }
   ],
   "source": [
    "norm = nn.LayerNorm(d)\n",
    "for params in norm.parameters():\n",
    "    print(params)"
   ]
  },
  {
   "cell_type": "markdown",
   "metadata": {},
   "source": [
    "学習データ全体の統計量は持っていない。"
   ]
  },
  {
   "cell_type": "code",
   "execution_count": 30,
   "metadata": {},
   "outputs": [
    {
     "data": {
      "text/plain": [
       "OrderedDict([('weight', tensor([1., 1., 1., 1., 1.])),\n",
       "             ('bias', tensor([0., 0., 0., 0., 0.]))])"
      ]
     },
     "execution_count": 30,
     "metadata": {},
     "output_type": "execute_result"
    }
   ],
   "source": [
    "norm.state_dict()"
   ]
  },
  {
   "cell_type": "markdown",
   "metadata": {},
   "source": [
    "正規化。"
   ]
  },
  {
   "cell_type": "code",
   "execution_count": 31,
   "metadata": {},
   "outputs": [
    {
     "data": {
      "text/plain": [
       "tensor([[-1.4142e+00, -7.0710e-01,  0.0000e+00,  7.0710e-01,  1.4142e+00],\n",
       "        [-1.4142e+00, -7.0710e-01,  1.7881e-07,  7.0711e-01,  1.4142e+00]],\n",
       "       grad_fn=<NativeLayerNormBackward0>)"
      ]
     },
     "execution_count": 31,
     "metadata": {},
     "output_type": "execute_result"
    }
   ],
   "source": [
    "y = norm(x)\n",
    "y"
   ]
  },
  {
   "cell_type": "markdown",
   "metadata": {},
   "source": [
    "以下と同じ。"
   ]
  },
  {
   "cell_type": "code",
   "execution_count": 32,
   "metadata": {},
   "outputs": [
    {
     "data": {
      "text/plain": [
       "tensor([[-1.4142, -0.7071,  0.0000,  0.7071,  1.4142],\n",
       "        [-1.4142, -0.7071,  0.0000,  0.7071,  1.4142]])"
      ]
     },
     "execution_count": 32,
     "metadata": {},
     "output_type": "execute_result"
    }
   ],
   "source": [
    "mean = x.mean(dim=-1, keepdim=True)\n",
    "var = x.var(dim=-1, keepdim=True, unbiased=False)\n",
    "((x - mean) / torch.sqrt(var + norm.eps))"
   ]
  },
  {
   "cell_type": "markdown",
   "metadata": {},
   "source": [
    "統計量を求める軸を層（特徴量）方向に指定した（`dim=-1`）。\n",
    "\n",
    "特徴量は何次元でもいい。例えばRNNの場合、以下のようにすれば各バッチ各隠れ状態が正規化される。"
   ]
  },
  {
   "cell_type": "code",
   "execution_count": 33,
   "metadata": {},
   "outputs": [
    {
     "data": {
      "text/plain": [
       "tensor([[[ 0.,  1.,  2.,  3.],\n",
       "         [ 4.,  5.,  6.,  7.],\n",
       "         [ 8.,  9., 10., 11.]],\n",
       "\n",
       "        [[12., 13., 14., 15.],\n",
       "         [16., 17., 18., 19.],\n",
       "         [20., 21., 22., 23.]]])"
      ]
     },
     "execution_count": 33,
     "metadata": {},
     "output_type": "execute_result"
    }
   ],
   "source": [
    "batch_size = 2\n",
    "seq_len = 3\n",
    "d = 4\n",
    "x = torch.arange(batch_size * seq_len * d).reshape(batch_size, seq_len, d).to(torch.float32)\n",
    "x"
   ]
  },
  {
   "cell_type": "code",
   "execution_count": 34,
   "metadata": {},
   "outputs": [
    {
     "name": "stdout",
     "output_type": "stream",
     "text": [
      "Parameter containing:\n",
      "tensor([1., 1., 1., 1.], requires_grad=True)\n",
      "Parameter containing:\n",
      "tensor([0., 0., 0., 0.], requires_grad=True)\n"
     ]
    }
   ],
   "source": [
    "norm = nn.LayerNorm(d)\n",
    "for params in norm.parameters():\n",
    "    print(params)"
   ]
  },
  {
   "cell_type": "code",
   "execution_count": 35,
   "metadata": {},
   "outputs": [
    {
     "data": {
      "text/plain": [
       "tensor([[[-1.3416, -0.4472,  0.4472,  1.3416],\n",
       "         [-1.3416, -0.4472,  0.4472,  1.3416],\n",
       "         [-1.3416, -0.4472,  0.4472,  1.3416]],\n",
       "\n",
       "        [[-1.3416, -0.4472,  0.4472,  1.3416],\n",
       "         [-1.3416, -0.4472,  0.4472,  1.3416],\n",
       "         [-1.3416, -0.4472,  0.4472,  1.3416]]],\n",
       "       grad_fn=<NativeLayerNormBackward0>)"
      ]
     },
     "execution_count": 35,
     "metadata": {},
     "output_type": "execute_result"
    }
   ],
   "source": [
    "y = norm(x)\n",
    "y"
   ]
  },
  {
   "cell_type": "code",
   "execution_count": 36,
   "metadata": {},
   "outputs": [
    {
     "data": {
      "text/plain": [
       "tensor([[[-1.3416, -0.4472,  0.4472,  1.3416],\n",
       "         [-1.3416, -0.4472,  0.4472,  1.3416],\n",
       "         [-1.3416, -0.4472,  0.4472,  1.3416]],\n",
       "\n",
       "        [[-1.3416, -0.4472,  0.4472,  1.3416],\n",
       "         [-1.3416, -0.4472,  0.4472,  1.3416],\n",
       "         [-1.3416, -0.4472,  0.4472,  1.3416]]])"
      ]
     },
     "execution_count": 36,
     "metadata": {},
     "output_type": "execute_result"
    }
   ],
   "source": [
    "mean = x.mean(dim=-1, keepdim=True)\n",
    "var = x.var(dim=-1, keepdim=True, unbiased=False)\n",
    "((x - mean) / torch.sqrt(var + norm.eps))"
   ]
  }
 ],
 "metadata": {
  "kernelspec": {
   "display_name": "dl",
   "language": "python",
   "name": "python3"
  },
  "language_info": {
   "codemirror_mode": {
    "name": "ipython",
    "version": 3
   },
   "file_extension": ".py",
   "mimetype": "text/x-python",
   "name": "python",
   "nbconvert_exporter": "python",
   "pygments_lexer": "ipython3",
   "version": "3.11.2"
  },
  "orig_nbformat": 4
 },
 "nbformat": 4,
 "nbformat_minor": 2
}
