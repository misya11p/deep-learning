{
 "cells": [
  {
   "attachments": {},
   "cell_type": "markdown",
   "metadata": {},
   "source": [
    "# ニューラルネットワークの実装\n",
    "\n",
    "簡単なニューラルネットワークを実装してみる．"
   ]
  },
  {
   "cell_type": "code",
   "execution_count": 1,
   "metadata": {},
   "outputs": [],
   "source": [
    "import numpy as np\n",
    "import matplotlib.pyplot as plt"
   ]
  },
  {
   "attachments": {},
   "cell_type": "markdown",
   "metadata": {},
   "source": [
    "NNは層の組み合わせでできるので，層を実装していく．あとはそれらをまとめられるNNを実装する．\n",
    "\n",
    "層は関数と見られるので，関数として実装すると良い様に思えるが，層はパラメータを持つのでクラスとして実装する．  \n",
    "また活性化関数もクラスとして実装する．パラメータは持たないが，逆伝播を行う際に演算結果を保持しておく必要があるため．"
   ]
  },
  {
   "attachments": {},
   "cell_type": "markdown",
   "metadata": {},
   "source": [
    "層は以下の形で実装する．\n",
    "\n",
    "```python\n",
    "class Layer:\n",
    "    def __init__(self): # パラメータの初期化\n",
    "        ...\n",
    "\n",
    "    def __call__(self, x): # 順伝播\n",
    "        ...\n",
    "\n",
    "    def backward(self, d): # 逆伝播\n",
    "        ...\n",
    "\n",
    "    def update(self, lr): # パラメータの更新\n",
    "        ...\n",
    "```\n",
    "\n",
    "<br>\n",
    "\n",
    "<u>**メソッドの説明**</u>\n",
    "\n",
    "- `__init__()`  \n",
    "パラメータを初期化する．\n",
    "\n",
    "- `__call__(x)`  \n",
    "順伝播．演算結果を出力する．\n",
    "\n",
    "- `backward(d)`  \n",
    "逆伝播．勾配（順伝播の出力値を入力値で微分した値）を計算し，受け取った勾配(`d`)にかけて次の層に渡す．  \n",
    "また，パラメータごとの勾配も求め，変数に保持しておく．\n",
    "\n",
    "- `update(lr)`  \n",
    "パラメータを更新する．`backward()`で求めた勾配に学習率(`lr`)をかけてパラメータから引く．"
   ]
  },
  {
   "attachments": {},
   "cell_type": "markdown",
   "metadata": {},
   "source": [
    "\n",
    "---\n",
    "\n",
    "## 全結合層\n",
    "\n",
    "全結合層を定義する．"
   ]
  },
  {
   "cell_type": "code",
   "execution_count": 2,
   "metadata": {},
   "outputs": [],
   "source": [
    "class Linear:\n",
    "    def __init__(self, n_input, n_output):\n",
    "        self.w = np.random.normal(size=(n_input, n_output), scale=np.sqrt(2/n_output))\n",
    "        self.b = np.random.randn(n_output)\n",
    "\n",
    "    def __call__(self, x):\n",
    "        self.x = x\n",
    "        return np.dot(x, self.w) + self.b\n",
    "\n",
    "    def backward(self, d):\n",
    "        self.grad_w = np.multiply(*np.meshgrid(d, self.x))\n",
    "        self.grad_b = d\n",
    "        return np.dot(d, self.w.T)\n",
    "\n",
    "    def update(self, lr):\n",
    "        self.w -= lr * self.grad_w\n",
    "        self.b -= lr * self.grad_b"
   ]
  },
  {
   "attachments": {},
   "cell_type": "markdown",
   "metadata": {},
   "source": [
    "\\*ミニバッチ非対応\n",
    "\n",
    "- `__init__()`  \n",
    "層に入力する値の数（前の層の人工ニューロンの数）と出力する値の数（この層の人工ニューロンの数）を与え，重みとバイアスを初期化する．  \n",
    "バイアスは標準正規分布を使い，重みはXavierの初期値を使う．重みを標準正規分布にすると値が大きくなりすぎて上手くいかなかったので．\n",
    "\n",
    "- `__call__()`  \n",
    "入力と重みの積をとってバイアスを足すだけ．\n",
    "\n",
    "- `backward()`  \n",
    "順伝播の演算を$y = x \\cdot W + b$と表す．また前の層から伝わってきた勾配を$d$とする．\n",
    "    - $w$の勾配  \n",
    "    $y$を$w_{ij}$で微分すると，$w_{ij}$に対応する$x_i$だけが残るので，それに対応する$d_j$をかける．\n",
    "\n",
    "    - $b$の勾配  \n",
    "    上式を$b$で微分すると$1$になるので，$d \\times 1 = d$が$b$の勾配．\n",
    "\n",
    "    - $x$の勾配  \n",
    "    次の層に渡す値．$y$を$x_i$で微分すると，関係のある重み$w_i$と$d$の内積になる．\n"
   ]
  },
  {
   "attachments": {},
   "cell_type": "markdown",
   "metadata": {},
   "source": [
    "\n",
    "---\n",
    "\n",
    "## ReLU\n",
    "\n",
    "ReLU関数を定義する．"
   ]
  },
  {
   "cell_type": "code",
   "execution_count": 3,
   "metadata": {},
   "outputs": [
    {
     "data": {
      "image/png": "[encoded data removed]",
      "text/plain": [
       "<Figure size 400x300 with 1 Axes>"
      ]
     },
     "metadata": {},
     "output_type": "display_data"
    }
   ],
   "source": [
    "relu = lambda x: np.maximum(x, 0)\n",
    "x = np.arange(-5, 5, 0.1)\n",
    "plt.figure(figsize=(4, 3))\n",
    "plt.plot(x, relu(x));"
   ]
  },
  {
   "cell_type": "code",
   "execution_count": 4,
   "metadata": {},
   "outputs": [],
   "source": [
    "class ReLU:\n",
    "    def __call__(self, x):\n",
    "        self.x = x\n",
    "        return np.maximum(0, x)\n",
    "\n",
    "    def backward(self, d):\n",
    "        return d * (self.x > 0)\n",
    "\n",
    "    def update(self, lr):\n",
    "        pass"
   ]
  },
  {
   "attachments": {},
   "cell_type": "markdown",
   "metadata": {},
   "source": [
    "- `__init__()`  \n",
    "    パラメータを持たないので何もしない．記述不要．\n",
    "\n",
    "- `__call__()`  \n",
    "    入力が0以上ならそれをそのまま出力し，0未満なら0を出力．逆伝播用に入力された値を保持しておく．\n",
    "\n",
    "- `backward()`  \n",
    "    勾配は，順伝播時の入力が0以上なら1，0未満なら0なので，それを$d$にかけて次の層に渡す．\n",
    "\n",
    "- `update()`  \n",
    "    パラメータを持たないので何もしない．あとで楽するために定義だけしておく．\n"
   ]
  },
  {
   "attachments": {},
   "cell_type": "markdown",
   "metadata": {},
   "source": [
    "\n",
    "---\n",
    "\n",
    "## NN\n",
    "\n",
    "定義した層をNNとしてまとめるクラスを定義する．  \n",
    "kerasとかPyTorchでいうところの`Sequential`みたいなやつを目指す．"
   ]
  },
  {
   "cell_type": "code",
   "execution_count": 5,
   "metadata": {},
   "outputs": [],
   "source": [
    "class NeuralNetwork:\n",
    "    def __init__(self, *layers):\n",
    "        self.layers = layers\n",
    "\n",
    "    def __call__(self, x):\n",
    "        for layer in self.layers:\n",
    "            x = layer(x)\n",
    "        return x\n",
    "\n",
    "    def backward(self, d):\n",
    "        for layer in self.layers[::-1]:\n",
    "            d = layer.backward(d)\n",
    "        return d\n",
    "\n",
    "    def update(self, lr):\n",
    "        for layer in self.layers:\n",
    "            layer.update(lr)"
   ]
  },
  {
   "attachments": {},
   "cell_type": "markdown",
   "metadata": {},
   "source": [
    "- `__init__()`  \n",
    "    層を順番に入力して初期化する．\n",
    "\n",
    "- `__call__()`  \n",
    "    順伝播．`__call__()`メソッドを順番に呼び出すだけ．\n",
    "\n",
    "- `backward()`  \n",
    "    逆伝播．`backward()`メソッドを逆順に呼び出すだけ．\n",
    "\n",
    "- `update()`  \n",
    "    パラメータの更新．`update()`メソッドを順番に呼び出すだけ．"
   ]
  },
  {
   "attachments": {},
   "cell_type": "markdown",
   "metadata": {},
   "source": [
    "適当に使ってみよう．\n",
    "\n",
    "3つの値を入れると2つの値が返ってくるNNを定義する．"
   ]
  },
  {
   "cell_type": "code",
   "execution_count": 6,
   "metadata": {},
   "outputs": [],
   "source": [
    "nn = NeuralNetwork(\n",
    "    Linear(3, 10),\n",
    "    ReLU(),\n",
    "    Linear(10, 2)\n",
    ")"
   ]
  },
  {
   "attachments": {},
   "cell_type": "markdown",
   "metadata": {},
   "source": [
    "これに適当な値を入れてみると"
   ]
  },
  {
   "cell_type": "code",
   "execution_count": 7,
   "metadata": {},
   "outputs": [
    {
     "data": {
      "text/plain": [
       "array([-14.69862791,  -7.35651878])"
      ]
     },
     "execution_count": 7,
     "metadata": {},
     "output_type": "execute_result"
    }
   ],
   "source": [
    "x = np.array([1, 2, 3])\n",
    "y = nn(x)\n",
    "y"
   ]
  },
  {
   "attachments": {},
   "cell_type": "markdown",
   "metadata": {},
   "source": [
    "適当な二つの値が出てきた．"
   ]
  },
  {
   "attachments": {},
   "cell_type": "markdown",
   "metadata": {},
   "source": [
    "\n",
    "---\n",
    "\n",
    "## 損失関数\n",
    "\n",
    "損失関数もクラスとして実装する．"
   ]
  },
  {
   "attachments": {},
   "cell_type": "markdown",
   "metadata": {},
   "source": [
    "### 交差エントロピー\n",
    "\n",
    "分類タスクで使うやつ。これを使うときは、出力層の活性化関数はsoftmaxを使う。ので、それも一緒に書いちゃおう！"
   ]
  },
  {
   "cell_type": "code",
   "execution_count": 8,
   "metadata": {},
   "outputs": [],
   "source": [
    "class CrossEntropy:\n",
    "    def __call__(self, y, t):\n",
    "        y = self._softmax(y)\n",
    "        self.y = y\n",
    "        self.t = t\n",
    "        loss = -np.sum(t * np.log(y))\n",
    "        return loss\n",
    "\n",
    "    def backward(self):\n",
    "        return self.y - self.t\n",
    "\n",
    "    def _softmax(self, y):\n",
    "        return np.exp(y) / np.sum(np.exp(y))"
   ]
  },
  {
   "attachments": {},
   "cell_type": "markdown",
   "metadata": {},
   "source": [
    "普通活性化関数はNN側に書くけど、交差エントロピーと一緒に使うとこの部分の微分が綺麗になるので、こっちに書いた。  \n",
    "微分がきれいなのはたまたまではなく、頭のいい人が綺麗になるように考えたからだと思う。"
   ]
  },
  {
   "attachments": {},
   "cell_type": "markdown",
   "metadata": {},
   "source": [
    "\n",
    "---\n",
    "\n",
    "## 手書き数字の分類\n",
    "\n",
    "MNISTというデータセットを使って，手書き数字の分類モデルを作る．"
   ]
  },
  {
   "cell_type": "code",
   "execution_count": 9,
   "metadata": {},
   "outputs": [],
   "source": [
    "from keras.datasets import mnist\n",
    "(x_train, y_train), (x_test, y_test) = mnist.load_data()\n",
    "\n",
    "# 正規化\n",
    "x_train = x_train.reshape(-1, 784) / 255\n",
    "x_test = x_test.reshape(-1, 784) / 255\n",
    "\n",
    "# one-hotに\n",
    "y_train = np.eye(10)[y_train]\n",
    "y_test = np.eye(10)[y_test]"
   ]
  },
  {
   "attachments": {},
   "cell_type": "markdown",
   "metadata": {},
   "source": [
    "データの中身を見てみる"
   ]
  },
  {
   "cell_type": "code",
   "execution_count": 10,
   "metadata": {},
   "outputs": [
    {
     "data": {
      "image/png": "[encoded data removed]",
      "text/plain": [
       "<Figure size 1000x100 with 10 Axes>"
      ]
     },
     "metadata": {},
     "output_type": "display_data"
    }
   ],
   "source": [
    "fig, axes = plt.subplots(1, 10, figsize=(10, 1))\n",
    "for i, ax in enumerate(axes):\n",
    "    ax.imshow(x_train[i].reshape(28, 28), cmap='gray')\n",
    "    ax.axis('off')"
   ]
  },
  {
   "attachments": {},
   "cell_type": "markdown",
   "metadata": {},
   "source": [
    "この様な画像から，書かれている数字を予測する．"
   ]
  },
  {
   "cell_type": "code",
   "execution_count": 11,
   "metadata": {},
   "outputs": [],
   "source": [
    "from tqdm import tqdm\n",
    "\n",
    "def train(model, x, y, criterion, lr, n_epochs):\n",
    "    for epoch in range(1, n_epochs+1):\n",
    "        loss = 0\n",
    "        for _ in tqdm(range(len(x)), desc=f'{epoch}epoch'):\n",
    "            # ランダムに一つ抽出\n",
    "            idx = np.random.randint(0, len(x))\n",
    "            sample_x = x[idx]\n",
    "            sample_y = y[idx]\n",
    "\n",
    "            out = model(sample_x) # 順伝播\n",
    "            loss += criterion(out, sample_y) # 損失の計算\n",
    "            d = criterion.backward() # 損失関数の逆伝播\n",
    "            model.backward(d) # ニューラルネットワークの逆伝播\n",
    "            model.update(lr) # パラメータの更新\n",
    "        print(f'loss: {loss / len(x)}')"
   ]
  },
  {
   "cell_type": "code",
   "execution_count": 16,
   "metadata": {},
   "outputs": [],
   "source": [
    "model = NeuralNetwork(\n",
    "    Linear(784, 128),\n",
    "    ReLU(),\n",
    "    Linear(128, 64),\n",
    "    ReLU(),\n",
    "    Linear(64, 10)\n",
    ")"
   ]
  },
  {
   "cell_type": "code",
   "execution_count": 17,
   "metadata": {},
   "outputs": [
    {
     "name": "stderr",
     "output_type": "stream",
     "text": [
      "1epoch: 100%|██████████| 60000/60000 [00:42<00:00, 1426.42it/s]\n"
     ]
    },
    {
     "name": "stdout",
     "output_type": "stream",
     "text": [
      "loss: 0.34980358727972216\n"
     ]
    },
    {
     "name": "stderr",
     "output_type": "stream",
     "text": [
      "2epoch: 100%|██████████| 60000/60000 [00:41<00:00, 1440.48it/s]\n"
     ]
    },
    {
     "name": "stdout",
     "output_type": "stream",
     "text": [
      "loss: 0.17994229471176165\n"
     ]
    },
    {
     "name": "stderr",
     "output_type": "stream",
     "text": [
      "3epoch: 100%|██████████| 60000/60000 [00:41<00:00, 1432.00it/s]\n"
     ]
    },
    {
     "name": "stdout",
     "output_type": "stream",
     "text": [
      "loss: 0.1291041687841904\n"
     ]
    },
    {
     "name": "stderr",
     "output_type": "stream",
     "text": [
      "4epoch: 100%|██████████| 60000/60000 [00:41<00:00, 1454.14it/s]\n"
     ]
    },
    {
     "name": "stdout",
     "output_type": "stream",
     "text": [
      "loss: 0.10628324378675094\n"
     ]
    },
    {
     "name": "stderr",
     "output_type": "stream",
     "text": [
      "5epoch: 100%|██████████| 60000/60000 [00:41<00:00, 1456.15it/s]"
     ]
    },
    {
     "name": "stdout",
     "output_type": "stream",
     "text": [
      "loss: 0.08915023821007384\n"
     ]
    },
    {
     "name": "stderr",
     "output_type": "stream",
     "text": [
      "\n"
     ]
    }
   ],
   "source": [
    "train(model, x_train, y_train, CrossEntropy(), 0.001, 5)"
   ]
  }
 ],
 "metadata": {
  "kernelspec": {
   "display_name": ".venv",
   "language": "python",
   "name": "python3"
  },
  "language_info": {
   "codemirror_mode": {
    "name": "ipython",
    "version": 3
   },
   "file_extension": ".py",
   "mimetype": "text/x-python",
   "name": "python",
   "nbconvert_exporter": "python",
   "pygments_lexer": "ipython3",
   "version": "3.9.6"
  },
  "orig_nbformat": 4,
  "vscode": {
   "interpreter": {
    "hash": "820a20c89d88d8dc70b773bb38e12598f06a3e6908e94457604904dc0cffb653"
   }
  }
 },
 "nbformat": 4,
 "nbformat_minor": 2
}
