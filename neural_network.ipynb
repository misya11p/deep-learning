{
 "cells": [
  {
   "attachments": {},
   "cell_type": "markdown",
   "metadata": {},
   "source": [
    "# ニューラルネットワークの実装"
   ]
  },
  {
   "cell_type": "code",
   "execution_count": 2,
   "metadata": {},
   "outputs": [],
   "source": [
    "import numpy as np\n",
    "import matplotlib.pyplot as plt"
   ]
  },
  {
   "attachments": {},
   "cell_type": "markdown",
   "metadata": {},
   "source": [
    "NNは層の組み合わせでできるので，層を実装していく．あとはそれらをまとめられるNNを実装する．\n",
    "\n",
    "層は関数と見られるので，関数として実装すると良い様に思えるが，層はパラメータを持つのでクラスとして実装する．  \n",
    "また活性化関数もクラスとして実装する．パラメータは持たないが，逆伝播を行う際に演算結果を保持しておく必要があるため．"
   ]
  },
  {
   "attachments": {},
   "cell_type": "markdown",
   "metadata": {},
   "source": [
    "層は以下の形で実装する．\n",
    "\n",
    "```python\n",
    "class Layer:\n",
    "    def __init__(self): # パラメータの初期化\n",
    "        ...\n",
    "\n",
    "    def __call__(self, x): # 順伝播\n",
    "        ...\n",
    "\n",
    "    def backward(self, d): # 逆伝播\n",
    "        ...\n",
    "\n",
    "    def update(self, lr): # パラメータの更新\n",
    "        ...\n",
    "```\n",
    "\n",
    "<br>\n",
    "\n",
    "<u>**メソッドの説明**</u>\n",
    "\n",
    "- `__init__()`  \n",
    "パラメータを初期化する．\n",
    "\n",
    "- `__call__(x)`  \n",
    "順伝播．演算結果を出力する．\n",
    "\n",
    "- `backward(d)`  \n",
    "逆伝播．勾配（順伝播の出力値を入力値で微分した値）を計算し，受け取った勾配(`d`)にかけて次の層に渡す．  \n",
    "また，パラメータごとの勾配も求め，変数に保持しておく．\n",
    "\n",
    "- `update(lr)`  \n",
    "パラメータを更新する．`backward()`で求めた勾配に学習率(`lr`)をかけてパラメータから引く．"
   ]
  },
  {
   "attachments": {},
   "cell_type": "markdown",
   "metadata": {},
   "source": [
    "## 全結合層\n",
    "\n",
    "全結合層を定義する．"
   ]
  },
  {
   "cell_type": "code",
   "execution_count": 3,
   "metadata": {},
   "outputs": [],
   "source": [
    "class Linear:\n",
    "    def __init__(self, n_input, n_output):\n",
    "        self.w = np.random.normal(size=(n_input, n_output), scale=np.sqrt(2/n_output))\n",
    "        self.b = np.random.randn(n_output)\n",
    "\n",
    "    def __call__(self, x):\n",
    "        return np.dot(x, self.w) + self.b\n",
    "\n",
    "    def backward(self, d):\n",
    "        self.grad_w = np.multiply(*np.meshgrid(d, self.x))\n",
    "        self.grad_b = d\n",
    "        return np.dot(d, self.w.T)\n",
    "\n",
    "    def update(self, lr):\n",
    "        self.w -= lr * self.grad_w\n",
    "        self.b -= lr * self.grad_b"
   ]
  },
  {
   "attachments": {},
   "cell_type": "markdown",
   "metadata": {},
   "source": [
    "\\*ミニバッチ非対応\n",
    "\n",
    "- `__init__()`  \n",
    "重みとバイアスを初期化する．バイアスは標準正規分布を使い，重みはXavierの初期値を使う．  \n",
    "重みを標準正規分布にすると，値が大きくなりすぎて上手くいかなかったので．\n",
    "\n",
    "- `__call__()`  \n",
    "入力と重みの積をとってバイアスを足すだけ．\n",
    "\n",
    "- `backward()`  \n",
    "順伝播の演算を$y = x \\cdot W + b$と表す．また前の層から伝わってきた勾配を$d$とする．\n",
    "    - $w$の勾配  \n",
    "    $y$を$w_{ij}$で微分すると，$w_{ij}$に対応する$x_i$だけが残るので，それに対応する$d_j$をかける．\n",
    "\n",
    "    - $b$の勾配  \n",
    "    上式を$b$で微分すると$1$になるので，$d \\times 1 = d$が$b$の勾配．\n",
    "\n",
    "    - $x$の勾配  \n",
    "    次の層に渡す値．$y$を$x_i$で微分すると，関係のある重み$w_i$と$d$の内積になる．\n"
   ]
  },
  {
   "attachments": {},
   "cell_type": "markdown",
   "metadata": {},
   "source": [
    "## ReLU\n",
    "\n",
    "ReLU関数を定義する．"
   ]
  },
  {
   "cell_type": "code",
   "execution_count": 6,
   "metadata": {},
   "outputs": [
    {
     "data": {
      "image/png": "[encoded data removed]",
      "text/plain": [
       "<Figure size 400x300 with 1 Axes>"
      ]
     },
     "metadata": {},
     "output_type": "display_data"
    }
   ],
   "source": [
    "relu = lambda x: np.maximum(x, 0)\n",
    "x = np.arange(-5, 5, 0.1)\n",
    "plt.figure(figsize=(4, 3))\n",
    "plt.plot(x, relu(x));"
   ]
  },
  {
   "cell_type": "code",
   "execution_count": null,
   "metadata": {},
   "outputs": [],
   "source": [
    "class ReLU:\n",
    "    def __call__(self, x):\n",
    "        self.x = x\n",
    "        return np.maximum(0, x)\n",
    "\n",
    "    def backward(self, d):\n",
    "        return d * (self.x > 0)\n",
    "\n",
    "    def update(self, lr):\n",
    "        pass"
   ]
  },
  {
   "attachments": {},
   "cell_type": "markdown",
   "metadata": {},
   "source": [
    "- `__init__()`  \n",
    "    パラメータを持たないので何もしない．記述不要．\n",
    "\n",
    "- `__call__()`  \n",
    "    入力が0以上ならそれをそのまま出力し，0未満なら0を出力．逆伝播用に入力された値を保持しておく．\n",
    "\n",
    "- `backward()`  \n",
    "    勾配は，順伝播時の入力が0以上なら1，0未満なら0なので，それを$d$にかけて次の層に渡す．\n",
    "\n",
    "- `update()`  \n",
    "    パラメータを持たないので何もしない．あとで楽するために定義だけしておく．\n"
   ]
  },
  {
   "attachments": {},
   "cell_type": "markdown",
   "metadata": {},
   "source": [
    "## NN\n",
    "\n",
    "定義した層をNNとしてまとめるクラスを定義する．  \n",
    "kerasとかPyTorchでいうところの`Sequential`みたいなやつを目指す．"
   ]
  },
  {
   "cell_type": "code",
   "execution_count": null,
   "metadata": {},
   "outputs": [],
   "source": [
    "class NeuralNetwork:\n",
    "    def __init__(self, *layers):\n",
    "        self.layers = layers\n",
    "\n",
    "    def __call__(self, x):\n",
    "        for layer in self.layers:\n",
    "            x = layer(x)\n",
    "        return x\n",
    "\n",
    "    def backward(self, d):\n",
    "        for layer in self.layers[::-1]:\n",
    "            d = layer.backward(d)\n",
    "        return d\n",
    "\n",
    "    def update(self, lr):\n",
    "        for layer in self.layers:\n",
    "            layer.update(lr)"
   ]
  },
  {
   "attachments": {},
   "cell_type": "markdown",
   "metadata": {},
   "source": [
    "- `__init__()`  \n",
    "    層を順番に入力して初期化する．\n",
    "\n",
    "- `__call__()`  \n",
    "    順伝播．`__call__()`メソッドを順番に呼び出すだけ．\n",
    "\n",
    "- `backward()`  \n",
    "    逆伝播．`backward()`メソッドを逆順に呼び出すだけ．\n",
    "\n",
    "- `update()`  \n",
    "    パラメータの更新．`update()`メソッドを順番に呼び出すだけ．"
   ]
  }
 ],
 "metadata": {
  "kernelspec": {
   "display_name": "all",
   "language": "python",
   "name": "python3"
  },
  "language_info": {
   "codemirror_mode": {
    "name": "ipython",
    "version": 3
   },
   "file_extension": ".py",
   "mimetype": "text/x-python",
   "name": "python",
   "nbconvert_exporter": "python",
   "pygments_lexer": "ipython3",
   "version": "3.9.13"
  },
  "orig_nbformat": 4,
  "vscode": {
   "interpreter": {
    "hash": "8943584b4b0b9f84e34e08d1abfe55bdb8e2bc83356c84dfc5b56b439ced91fb"
   }
  }
 },
 "nbformat": 4,
 "nbformat_minor": 2
}
